{
 "cells": [
  {
   "cell_type": "code",
   "execution_count": 1,
   "metadata": {},
   "outputs": [],
   "source": [
    "# Dependencies\n",
    "from bs4 import BeautifulSoup\n",
    "import requests\n",
    "from splinter import Browser\n",
    "from splinter.exceptions import ElementDoesNotExist\n",
    "import pandas as pd\n",
    "import time"
   ]
  },
  {
   "cell_type": "code",
   "execution_count": 2,
   "metadata": {},
   "outputs": [],
   "source": [
    "nasa_url = 'https://mars.nasa.gov/news/?page=0&per_page=40&order=publish_date+desc%2Ccreated_at+desc&search=&category=19%2C165%2C184%2C204&blank_scope=Latest'\n",
    "response = requests.get(nasa_url)\n",
    "soup = BeautifulSoup(response.text, 'html.parser')\n",
    "p_result = soup.find('div', class_='rollover_description_inner')\n",
    "news_p = p_result.text.strip()\n",
    "result = soup.find('div', class_='content_title')\n",
    "news_title = result.text.strip()"
   ]
  },
  {
   "cell_type": "code",
   "execution_count": 3,
   "metadata": {},
   "outputs": [],
   "source": [
    "executable_path = {'executable_path': '/usr/local/bin/chromedriver'}\n",
    "browser = Browser('chrome', **executable_path, headless=False)"
   ]
  },
  {
   "cell_type": "code",
   "execution_count": 4,
   "metadata": {},
   "outputs": [],
   "source": [
    "splint_url = 'https://www.jpl.nasa.gov/spaceimages/?search=&category=Mars'\n",
    "browser.visit(splint_url)\n",
    "time.sleep(1)\n",
    "browser.links.find_by_partial_text('FULL IMAGE').click()\n",
    "time.sleep(1)\n",
    "browser.links.find_by_partial_text('more info').click()\n",
    "time.sleep(1)\n",
    "soup = BeautifulSoup(browser.html, 'html.parser')\n",
    "\n",
    "img = soup.findAll('img', class_='main_image')"
   ]
  },
  {
   "cell_type": "code",
   "execution_count": 5,
   "metadata": {},
   "outputs": [],
   "source": [
    "img_url = 'https://www.jpl.nasa.gov'\n",
    "for image in img:\n",
    "    img_url = img_url + image['src']"
   ]
  },
  {
   "cell_type": "code",
   "execution_count": 6,
   "metadata": {},
   "outputs": [],
   "source": [
    "browser.quit()"
   ]
  },
  {
   "cell_type": "code",
   "execution_count": 7,
   "metadata": {},
   "outputs": [],
   "source": [
    "browser = Browser('chrome', **executable_path, headless=False, incognito=True)"
   ]
  },
  {
   "cell_type": "code",
   "execution_count": 8,
   "metadata": {},
   "outputs": [],
   "source": [
    "mars_twitter_url = 'https://twitter.com/marswxreport?lang=en'\n",
    "browser.visit(mars_twitter_url)\n",
    "time.sleep(1)\n",
    "soup = BeautifulSoup(browser.html, 'html.parser')\n",
    "first_tweet = soup.findAll('div', class_='css-1dbjc4n r-18u37iz' )\n",
    "\n",
    "soup = BeautifulSoup(str(first_tweet), 'html.parser')\n",
    "\n",
    "f_tweet = soup.findAll('span')\n",
    "mars_weather = f_tweet[4].text.strip()"
   ]
  },
  {
   "cell_type": "code",
   "execution_count": 9,
   "metadata": {},
   "outputs": [],
   "source": [
    "browser.quit()"
   ]
  },
  {
   "cell_type": "code",
   "execution_count": null,
   "metadata": {},
   "outputs": [],
   "source": [
    "f_tweet"
   ]
  },
  {
   "cell_type": "code",
   "execution_count": 22,
   "metadata": {},
   "outputs": [],
   "source": [
    "table_url = 'https://space-facts.com/mars/'\n",
    "df = pd.read_html(table_url)\n",
    "time.sleep(1)\n",
    "mars_facts = df[0]\n",
    "mars_earth = df[1]\n",
    "mars_facts.rename(columns={0: '0', 1:'1'})\n",
    "mars_facts = mars_facts.to_json()\n",
    "mars_earth = mars_earth.to_json()"
   ]
  },
  {
   "cell_type": "code",
   "execution_count": 27,
   "metadata": {},
   "outputs": [
    {
     "data": {
      "text/plain": [
       "'{\"0\":{\"0\":\"Equatorial Diameter:\",\"1\":\"Polar Diameter:\",\"2\":\"Mass:\",\"3\":\"Moons:\",\"4\":\"Orbit Distance:\",\"5\":\"Orbit Period:\",\"6\":\"Surface Temperature:\",\"7\":\"First Record:\",\"8\":\"Recorded By:\"},\"1\":{\"0\":\"6,792 km\",\"1\":\"6,752 km\",\"2\":\"6.39 \\\\u00d7 10^23 kg (0.11 Earths)\",\"3\":\"2 (Phobos & Deimos)\",\"4\":\"227,943,824 km (1.38 AU)\",\"5\":\"687 days (1.9 years)\",\"6\":\"-87 to -5 \\\\u00b0C\",\"7\":\"2nd millennium BC\",\"8\":\"Egyptian astronomers\"}}'"
      ]
     },
     "execution_count": 27,
     "metadata": {},
     "output_type": "execute_result"
    }
   ],
   "source": [
    "mars_facts"
   ]
  },
  {
   "cell_type": "code",
   "execution_count": 12,
   "metadata": {},
   "outputs": [],
   "source": [
    "hem_dicts = []\n",
    "hem_titles = []\n",
    "hem_url_list = []\n",
    "hem_names = ['Cerberus', 'Schiaparelli', 'Syrtis', 'Valles']\n",
    "hem_url = 'https://astrogeology.usgs.gov/search/results?q=hemisphere+enhanced&k1=target&v1=Mars'\n",
    "browser = Browser('chrome', **executable_path, headless=False)"
   ]
  },
  {
   "cell_type": "code",
   "execution_count": 13,
   "metadata": {},
   "outputs": [],
   "source": [
    "def hem_to_dict(title, url):\n",
    "    d = {'title': title, 'img_url': url}\n",
    "    return d"
   ]
  },
  {
   "cell_type": "code",
   "execution_count": 14,
   "metadata": {},
   "outputs": [],
   "source": [
    "def get_pic_url():\n",
    "    browser.links.find_by_partial_text('Sample').click()\n",
    "    time.sleep(1)\n",
    "    parent_window = browser.driver.current_window_handle\n",
    "    all_windows = browser.driver.window_handles\n",
    "    child_window = [window for window in all_windows if window != parent_window][0]\n",
    "    browser.driver.switch_to.window(child_window)\n",
    "    time.sleep(1)\n",
    "    temp_url = browser.url\n",
    "    browser.driver.close()\n",
    "    browser.driver.switch_to.window(parent_window)\n",
    "    return temp_url"
   ]
  },
  {
   "cell_type": "code",
   "execution_count": 15,
   "metadata": {},
   "outputs": [],
   "source": [
    "for hem in hem_names:\n",
    "    browser.visit(hem_url)\n",
    "    time.sleep(1)\n",
    "    browser.links.find_by_partial_text(hem).click()\n",
    "    time.sleep(1)\n",
    "    t = browser.title.split('|')\n",
    "    t = t[0]\n",
    "    t = t.strip()\n",
    "    hem_titles.append(t)\n",
    "\n",
    "    url = get_pic_url()\n",
    "    hem_url_list.append(url)"
   ]
  },
  {
   "cell_type": "code",
   "execution_count": 16,
   "metadata": {},
   "outputs": [],
   "source": [
    "browser.quit()"
   ]
  },
  {
   "cell_type": "code",
   "execution_count": 17,
   "metadata": {},
   "outputs": [],
   "source": [
    "for i, x in enumerate(hem_titles):\n",
    "    hem_dicts.append(hem_to_dict(x, hem_url_list[i]))"
   ]
  },
  {
   "cell_type": "code",
   "execution_count": 18,
   "metadata": {},
   "outputs": [],
   "source": [
    "return_dict = { 'news_title': news_title,\n",
    "                'news_p': news_p, \n",
    "                'featured_image_url': img_url, \n",
    "                'mars_weather': mars_weather,\n",
    "                'mars_facts': mars_facts,\n",
    "                'hem_dicts': hem_dicts\n",
    "                }"
   ]
  }
 ],
 "metadata": {
  "kernelspec": {
   "display_name": "Python 3",
   "language": "python",
   "name": "python3"
  },
  "language_info": {
   "codemirror_mode": {
    "name": "ipython",
    "version": 3
   },
   "file_extension": ".py",
   "mimetype": "text/x-python",
   "name": "python",
   "nbconvert_exporter": "python",
   "pygments_lexer": "ipython3",
   "version": "3.7.6"
  }
 },
 "nbformat": 4,
 "nbformat_minor": 4
}
